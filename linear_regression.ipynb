{
  "nbformat": 4,
  "nbformat_minor": 0,
  "metadata": {
    "colab": {
      "name": "linear_regression.ipynb",
      "provenance": []
    },
    "kernelspec": {
      "name": "python3",
      "display_name": "Python 3"
    }
  },
  "cells": [
    {
      "cell_type": "code",
      "metadata": {
        "id": "7wVzGctGeFMK",
        "colab_type": "code",
        "colab": {}
      },
      "source": [
        "from sklearn import datasets\n",
        "import matplotlib.pyplot as plt\n",
        "from sklearn.model_selection import train_test_split\n",
        "import numpy as np"
      ],
      "execution_count": 0,
      "outputs": []
    },
    {
      "cell_type": "code",
      "metadata": {
        "id": "qtWEbG89eIbp",
        "colab_type": "code",
        "colab": {}
      },
      "source": [
        "X,y=datasets.make_regression(n_samples=200,n_features=1,noise=20,random_state=1)"
      ],
      "execution_count": 0,
      "outputs": []
    },
    {
      "cell_type": "code",
      "metadata": {
        "id": "ITwh6V65eePy",
        "colab_type": "code",
        "colab": {
          "base_uri": "https://localhost:8080/",
          "height": 282
        },
        "outputId": "0f4813ef-98d8-4a86-d6f3-d1d5bd6cc3b4"
      },
      "source": [
        "plt.scatter(X[:,0],y,marker=\"*\")"
      ],
      "execution_count": 22,
      "outputs": [
        {
          "output_type": "execute_result",
          "data": {
            "text/plain": [
              "<matplotlib.collections.PathCollection at 0x7fb699f76cc0>"
            ]
          },
          "metadata": {
            "tags": []
          },
          "execution_count": 22
        },
        {
          "output_type": "display_data",
          "data": {
            "image/png": "[encoded data removed]",
            "text/plain": [
              "<Figure size 432x288 with 1 Axes>"
            ]
          },
          "metadata": {
            "tags": [],
            "needs_background": "light"
          }
        }
      ]
    },
    {
      "cell_type": "code",
      "metadata": {
        "id": "h-rtbPhke-RT",
        "colab_type": "code",
        "colab": {}
      },
      "source": [
        "X_train,X_test,Y_train,Y_test=train_test_split(X,y,test_size=0.2,random_state=1)"
      ],
      "execution_count": 0,
      "outputs": []
    },
    {
      "cell_type": "code",
      "metadata": {
        "id": "g4VcmvdffWUe",
        "colab_type": "code",
        "colab": {
          "base_uri": "https://localhost:8080/",
          "height": 84
        },
        "outputId": "c8bc66cc-12e4-4b80-faf2-375d0a1b213c"
      },
      "source": [
        "print(X_train.shape)\n",
        "print(Y_train.shape)\n",
        "print(X_test.shape)\n",
        "print(Y_test.shape)"
      ],
      "execution_count": 16,
      "outputs": [
        {
          "output_type": "stream",
          "text": [
            "(160, 1)\n",
            "(160,)\n",
            "(40, 1)\n",
            "(40,)\n"
          ],
          "name": "stdout"
        }
      ]
    },
    {
      "cell_type": "code",
      "metadata": {
        "id": "4b1eYaYrcMft",
        "colab_type": "code",
        "colab": {}
      },
      "source": [
        "class LinearRegression:\n",
        "\n",
        "  def __init__(self,lr=0.01,n_iters=1000):\n",
        "    self.lr=lr\n",
        "    self.n_iters=n_iters\n",
        "    self.weights=None\n",
        "    self.bias=None\n",
        "\n",
        "  def fit(self,X,y):\n",
        "    n_samples,n_features=X.shape\n",
        "    self.weights=np.zeros(n_features)\n",
        "    self.bias=0\n",
        "    for i in range(self.n_iters):\n",
        "      y_pred=np.dot(X,self.weights)+self.bias\n",
        "      dw=(1/n_samples)* np.dot(X.T,(y_pred-y))\n",
        "      db=(1/n_samples)*np.sum(y_pred-y)\n",
        "\n",
        "      self.weights=self.weights-self.lr * dw\n",
        "      self.bias=self.bias-self.lr * db\n",
        "\n",
        "  def predict(self,X):\n",
        "    y_predicted=np.dot(X,self.weights)+self.bias\n",
        "    return y_predicted\n"
      ],
      "execution_count": 0,
      "outputs": []
    },
    {
      "cell_type": "code",
      "metadata": {
        "id": "JOOoDUoWgYiy",
        "colab_type": "code",
        "colab": {}
      },
      "source": [
        "a=LinearRegression()"
      ],
      "execution_count": 0,
      "outputs": []
    },
    {
      "cell_type": "code",
      "metadata": {
        "id": "kWEJm8ZCgbUu",
        "colab_type": "code",
        "colab": {}
      },
      "source": [
        "a.fit(X_train,Y_train)"
      ],
      "execution_count": 0,
      "outputs": []
    },
    {
      "cell_type": "code",
      "metadata": {
        "id": "_7OlUpuCgcDw",
        "colab_type": "code",
        "colab": {
          "base_uri": "https://localhost:8080/",
          "height": 185
        },
        "outputId": "c9fb0f4c-cadc-4ff4-8a96-d486ed1b4a18"
      },
      "source": [
        "a.predict(X_test)"
      ],
      "execution_count": 27,
      "outputs": [
        {
          "output_type": "execute_result",
          "data": {
            "text/plain": [
              "array([ -76.23328032,  190.14723758,   17.47798591,  -55.08557072,\n",
              "         -9.91701929,   97.6568249 ,  -35.8194523 ,  189.8223565 ,\n",
              "        100.1640466 ,   23.34066557,    9.22293471,   -2.27631351,\n",
              "         43.62474031,   20.557761  ,  -45.22615365,   45.06881397,\n",
              "         50.06050761, -177.77256122,  -55.31601988,  -13.08624392,\n",
              "        -33.94456501,  106.78601292, -101.10757079,   34.53968629,\n",
              "         63.50376079,  -60.88140842,  105.76804619,   -7.77009869,\n",
              "        -53.91170728,  -10.81581908,   -3.32013316,   28.3488433 ,\n",
              "        -61.57420141,  -55.6242908 ,  -74.98353756,   52.83390657,\n",
              "         71.13814001,  -31.19961839,  -34.71041201,  108.24481252])"
            ]
          },
          "metadata": {
            "tags": []
          },
          "execution_count": 27
        }
      ]
    },
    {
      "cell_type": "code",
      "metadata": {
        "id": "pvZV9KU7lknt",
        "colab_type": "code",
        "colab": {}
      },
      "source": [
        "from sklearn.linear_model import LinearRegression"
      ],
      "execution_count": 0,
      "outputs": []
    },
    {
      "cell_type": "code",
      "metadata": {
        "id": "4z4w17JRmyNF",
        "colab_type": "code",
        "colab": {}
      },
      "source": [
        "a=LinearRegression()"
      ],
      "execution_count": 0,
      "outputs": []
    },
    {
      "cell_type": "code",
      "metadata": {
        "id": "IDtFMmwbnHLT",
        "colab_type": "code",
        "colab": {
          "base_uri": "https://localhost:8080/",
          "height": 34
        },
        "outputId": "77eeee7d-113d-46a7-98c4-9be3101a3636"
      },
      "source": [
        "a.fit(X_train,Y_train)"
      ],
      "execution_count": 34,
      "outputs": [
        {
          "output_type": "execute_result",
          "data": {
            "text/plain": [
              "LinearRegression(copy_X=True, fit_intercept=True, n_jobs=None, normalize=False)"
            ]
          },
          "metadata": {
            "tags": []
          },
          "execution_count": 34
        }
      ]
    },
    {
      "cell_type": "code",
      "metadata": {
        "id": "ekB6O15RnKY8",
        "colab_type": "code",
        "colab": {}
      },
      "source": [
        "predicted=a.predict(X_test)"
      ],
      "execution_count": 0,
      "outputs": []
    },
    {
      "cell_type": "code",
      "metadata": {
        "id": "USPmZScQnQzK",
        "colab_type": "code",
        "colab": {}
      },
      "source": [
        "def mse(y_test,y_pred):\n",
        "  return np.mean((y_test-y_pred)**2)"
      ],
      "execution_count": 0,
      "outputs": []
    },
    {
      "cell_type": "code",
      "metadata": {
        "id": "73T5sv-Fnj3A",
        "colab_type": "code",
        "colab": {
          "base_uri": "https://localhost:8080/",
          "height": 34
        },
        "outputId": "6f7dbdbf-9757-4214-b92b-fa56fa640726"
      },
      "source": [
        "print(mse(Y_test,predicted))"
      ],
      "execution_count": 38,
      "outputs": [
        {
          "output_type": "stream",
          "text": [
            "440.47464902159606\n"
          ],
          "name": "stdout"
        }
      ]
    },
    {
      "cell_type": "code",
      "metadata": {
        "id": "1USkEQ75npnk",
        "colab_type": "code",
        "colab": {
          "base_uri": "https://localhost:8080/",
          "height": 282
        },
        "outputId": "a21c1607-597a-40bb-8c02-68baa0192c83"
      },
      "source": [
        "m1=plt.scatter(X_train[:,0],Y_train,color=\"red\")\n",
        "m2=plt.scatter(X_test[:,0],Y_test,color=\"blue\")\n",
        "plt.plot(X_test,predicted,color=\"black\")"
      ],
      "execution_count": 39,
      "outputs": [
        {
          "output_type": "execute_result",
          "data": {
            "text/plain": [
              "[<matplotlib.lines.Line2D at 0x7fb698353d30>]"
            ]
          },
          "metadata": {
            "tags": []
          },
          "execution_count": 39
        },
        {
          "output_type": "display_data",
          "data": {
            "image/png": "[encoded data removed]",
            "text/plain": [
              "<Figure size 432x288 with 1 Axes>"
            ]
          },
          "metadata": {
            "tags": [],
            "needs_background": "light"
          }
        }
      ]
    },
    {
      "cell_type": "code",
      "metadata": {
        "id": "MvmR_QjJpBNJ",
        "colab_type": "code",
        "colab": {}
      },
      "source": [
        ""
      ],
      "execution_count": 0,
      "outputs": []
    }
  ]
}